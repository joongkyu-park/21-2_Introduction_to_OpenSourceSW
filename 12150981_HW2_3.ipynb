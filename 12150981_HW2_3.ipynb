{
 "cells": [
  {
   "cell_type": "code",
   "execution_count": 1,
   "id": "3f737da3",
   "metadata": {},
   "outputs": [],
   "source": [
    "# 12150981 박중규 HW#2-3번\n",
    "# ml-100k 폴더 내에 해당 파일이 있어야합니다.\n",
    "\n",
    "import pandas as pd\n",
    "import numpy as np\n",
    "\n",
    "#데이터 읽어오기\n",
    "data = pd.read_csv('u.data', delimiter='\\t', names = [\"user_id\", \"movi_id\", \"rating\", \"timestamp\"])\n",
    "user = pd.read_csv('u.user', delimiter='|', names = [\"user_id\", \"age\", \"gender\", \"occupation\", \"zip_code\"])\n",
    "info = pd.read_csv('u.info')\n",
    "item = pd.read_csv('u.item',  sep='|', encoding='latin-1', \n",
    "                   names = ['movi_id', 'movie_title','release_date','video_release_date','IMDb URL',\n",
    "                            'unknown', 'Action', 'Adventure', 'Animation', 'Children\\'s', 'Comedy',\n",
    "                            'Crime', 'Documentary', 'Drama', 'Fantasy', 'Film-Noir', 'Horror', \n",
    "                            'Musical', 'Mystery', 'Romance', 'Sci-Fi', 'Thriller', 'War', 'Western'])\n",
    "genre = pd.read_csv('u.genre', delimiter='|', names = [\"genre\", \"index\"])\n",
    "occupation = pd.read_csv('u.occupation', names = [\"occupation\"])\n",
    "\n",
    "#모든 평가정보가 담긴 'u.data'파일과 사용자의 정보가 담긴'u.user'파일을 outer join시킴('u.data'파일 기준)\n",
    "data_merged = pd.merge(left = data , right = user, how = \"left\", on = \"user_id\")\n",
    "#모든 평가정보가 담긴 'u.data'파일과 영화 정보가 담긴'u.item'파일을 outer join시킴('u.data'파일 기준)\n",
    "    #영화제목, 장르들만 남기고 나머지 열 삭제\n",
    "movi_names = item.drop(['release_date','video_release_date','IMDb URL'], axis=1)\n",
    "data_merged = pd.merge(left = data_merged , right = movi_names, how = \"left\", on = \"movi_id\")"
   ]
  },
  {
   "cell_type": "code",
   "execution_count": 2,
   "id": "36105035",
   "metadata": {},
   "outputs": [
    {
     "data": {
      "text/plain": [
       "Drama          39895\n",
       "Comedy         29832\n",
       "Action         25589\n",
       "Thriller       21872\n",
       "Romance        19461\n",
       "Adventure      13753\n",
       "Sci-Fi         12730\n",
       "War             9398\n",
       "Crime           8055\n",
       "Children's      7182\n",
       "Horror          5317\n",
       "Mystery         5245\n",
       "Musical         4954\n",
       "Animation       3605\n",
       "Western         1854\n",
       "Film-Noir       1733\n",
       "Fantasy         1352\n",
       "Documentary      758\n",
       "unknown           10\n",
       "dtype: int64"
      ]
     },
     "execution_count": 2,
     "metadata": {},
     "output_type": "execute_result"
    }
   ],
   "source": [
    "#3-A-1)for all user\n",
    "\n",
    "#각 장르 열만 남긴 데이터\u001e",
    "\n",
    "genre_data_for_all_users = data_merged.drop([\"movi_id\",\"movie_title\",\"user_id\",\"timestamp\", \"age\", \"gender\", \"occupation\", \"zip_code\", \"rating\"], axis=1).copy()\n",
    "#각 장르별로 개수를 모두 더한 시리즈 생성\n",
    "counting_genre_data_for_all_users = genre_data_for_all_users.sum()\n",
    "#각 장르별 개수 기준 내림차순으로 정렬 후 출력\n",
    "counting_genre_data_for_all_users.sort_values(axis=0, inplace=True, ascending=False)\n",
    "counting_genre_data_for_all_users"
   ]
  },
  {
   "cell_type": "code",
   "execution_count": 3,
   "id": "13ed79c7",
   "metadata": {},
   "outputs": [],
   "source": [
    "#3-A-2)by gender\n",
    "\n",
    "genre_data_by_gender = data_merged.drop([\"movi_id\",\"movie_title\",\"user_id\",\"timestamp\", \"age\", \"occupation\", \"zip_code\", \"rating\"], axis=1).copy()\n",
    "\n",
    "#gender별로 나누기\n",
    "genre_data_by_male = genre_data_by_gender[genre_data_by_gender['gender'].isin(['M'])].copy()\n",
    "genre_data_by_female = genre_data_by_gender[genre_data_by_gender['gender'].isin(['F'])].copy()"
   ]
  },
  {
   "cell_type": "code",
   "execution_count": 4,
   "id": "55f3162b",
   "metadata": {},
   "outputs": [
    {
     "data": {
      "text/plain": [
       "Drama          28887\n",
       "Comedy         21764\n",
       "Action         20147\n",
       "Thriller       16786\n",
       "Romance        13603\n",
       "Adventure      10612\n",
       "Sci-Fi         10101\n",
       "War             7209\n",
       "Crime           6261\n",
       "Children's      4950\n",
       "Horror          4120\n",
       "Mystery         3931\n",
       "Musical         3512\n",
       "Animation       2610\n",
       "Western         1483\n",
       "Film-Noir       1348\n",
       "Fantasy          989\n",
       "Documentary      571\n",
       "unknown            8\n",
       "dtype: int64"
      ]
     },
     "execution_count": 4,
     "metadata": {},
     "output_type": "execute_result"
    }
   ],
   "source": [
    "#각 장르별 개수 기준 내림차순으로 정렬 후 출력\n",
    "\n",
    "#gender : M\n",
    "counting_genre_data_by_male = genre_data_by_male.sum(numeric_only=True)\n",
    "counting_genre_data_by_male.sort_values(axis=0, inplace=True, ascending=False)\n",
    "counting_genre_data_by_male"
   ]
  },
  {
   "cell_type": "code",
   "execution_count": 5,
   "id": "a61a5a6f",
   "metadata": {},
   "outputs": [
    {
     "data": {
      "text/plain": [
       "Drama          11008\n",
       "Comedy          8068\n",
       "Romance         5858\n",
       "Action          5442\n",
       "Thriller        5086\n",
       "Adventure       3141\n",
       "Sci-Fi          2629\n",
       "Children's      2232\n",
       "War             2189\n",
       "Crime           1794\n",
       "Musical         1442\n",
       "Mystery         1314\n",
       "Horror          1197\n",
       "Animation        995\n",
       "Film-Noir        385\n",
       "Western          371\n",
       "Fantasy          363\n",
       "Documentary      187\n",
       "unknown            2\n",
       "dtype: int64"
      ]
     },
     "execution_count": 5,
     "metadata": {},
     "output_type": "execute_result"
    }
   ],
   "source": [
    "#gender : F\n",
    "counting_genre_data_by_female = genre_data_by_female.sum(numeric_only=True)\n",
    "counting_genre_data_by_female.sort_values(axis=0, inplace=True, ascending=False)\n",
    "counting_genre_data_by_female"
   ]
  },
  {
   "cell_type": "code",
   "execution_count": 6,
   "id": "4637c866",
   "metadata": {},
   "outputs": [],
   "source": [
    "#3-A-3)by occupation\n",
    "\n",
    "genre_data_by_occupation = data_merged.drop([\"movi_id\",\"movie_title\",\"user_id\",\"timestamp\", \"age\", \"gender\", \"zip_code\", \"rating\"], axis=1).copy()\n",
    "\n",
    "#occupation별로 나누기\n",
    "genre_data_by_administrator = genre_data_by_occupation[genre_data_by_occupation['occupation'].isin(['administrator'])].copy()\n",
    "genre_data_by_artist = genre_data_by_occupation[genre_data_by_occupation['occupation'].isin(['artist'])].copy()\n",
    "genre_data_by_doctor = genre_data_by_occupation[genre_data_by_occupation['occupation'].isin(['doctor'])].copy()\n",
    "genre_data_by_educator = genre_data_by_occupation[genre_data_by_occupation['occupation'].isin(['educator'])].copy()\n",
    "genre_data_by_engineer = genre_data_by_occupation[genre_data_by_occupation['occupation'].isin(['engineer'])].copy()\n",
    "genre_data_by_entertainment = genre_data_by_occupation[genre_data_by_occupation['occupation'].isin(['entertainment'])].copy()\n",
    "genre_data_by_executive = genre_data_by_occupation[genre_data_by_occupation['occupation'].isin(['executive'])].copy()\n",
    "genre_data_by_healthcare = genre_data_by_occupation[genre_data_by_occupation['occupation'].isin(['healthcare'])].copy()\n",
    "genre_data_by_homemaker = genre_data_by_occupation[genre_data_by_occupation['occupation'].isin(['homemaker'])].copy()\n",
    "genre_data_by_lawyer = genre_data_by_occupation[genre_data_by_occupation['occupation'].isin(['lawyer'])].copy()\n",
    "genre_data_by_librarian = genre_data_by_occupation[genre_data_by_occupation['occupation'].isin(['librarian'])].copy()\n",
    "genre_data_by_marketing = genre_data_by_occupation[genre_data_by_occupation['occupation'].isin(['marketing'])].copy()\n",
    "genre_data_by_none = genre_data_by_occupation[genre_data_by_occupation['occupation'].isin(['none'])].copy()\n",
    "genre_data_by_other = genre_data_by_occupation[genre_data_by_occupation['occupation'].isin(['other'])].copy()\n",
    "genre_data_by_programmer = genre_data_by_occupation[genre_data_by_occupation['occupation'].isin(['programmer'])].copy()\n",
    "genre_data_by_retired = genre_data_by_occupation[genre_data_by_occupation['occupation'].isin(['retired'])].copy()\n",
    "genre_data_by_salesman = genre_data_by_occupation[genre_data_by_occupation['occupation'].isin(['salesman'])].copy()\n",
    "genre_data_by_scientist = genre_data_by_occupation[genre_data_by_occupation['occupation'].isin(['scientist'])].copy()\n",
    "genre_data_by_student = genre_data_by_occupation[genre_data_by_occupation['occupation'].isin(['student'])].copy()\n",
    "genre_data_by_technician = genre_data_by_occupation[genre_data_by_occupation['occupation'].isin(['technician'])].copy()\n",
    "genre_data_by_writer = genre_data_by_occupation[genre_data_by_occupation['occupation'].isin(['writer'])].copy()"
   ]
  },
  {
   "cell_type": "code",
   "execution_count": 7,
   "id": "2e271bfd",
   "metadata": {},
   "outputs": [
    {
     "data": {
      "text/plain": [
       "Drama          3099\n",
       "Comedy         2203\n",
       "Action         1858\n",
       "Thriller       1570\n",
       "Romance        1539\n",
       "Adventure      1020\n",
       "Sci-Fi          942\n",
       "War             786\n",
       "Crime           565\n",
       "Children's      462\n",
       "Horror          391\n",
       "Mystery         385\n",
       "Musical         354\n",
       "Animation       203\n",
       "Western         168\n",
       "Film-Noir       147\n",
       "Fantasy          94\n",
       "Documentary      48\n",
       "unknown           0\n",
       "dtype: int64"
      ]
     },
     "execution_count": 7,
     "metadata": {},
     "output_type": "execute_result"
    }
   ],
   "source": [
    "#각 장르별 개수 기준 내림차순으로 정렬 후 출력\n",
    "\n",
    "#occupation : administrator\n",
    "\n",
    "counting_genre_data_by_administrator = genre_data_by_administrator.sum(numeric_only=True)\n",
    "counting_genre_data_by_administrator.sort_values(axis=0, inplace=True, ascending=False)\n",
    "counting_genre_data_by_administrator"
   ]
  },
  {
   "cell_type": "code",
   "execution_count": 8,
   "id": "1b398e09",
   "metadata": {},
   "outputs": [
    {
     "data": {
      "text/plain": [
       "Drama          957\n",
       "Comedy         617\n",
       "Action         528\n",
       "Thriller       476\n",
       "Romance        462\n",
       "Adventure      311\n",
       "Sci-Fi         308\n",
       "War            225\n",
       "Children's     202\n",
       "Crime          201\n",
       "Mystery        164\n",
       "Musical        157\n",
       "Animation      121\n",
       "Horror         102\n",
       "Film-Noir       64\n",
       "Documentary     34\n",
       "Western         29\n",
       "Fantasy         24\n",
       "unknown          0\n",
       "dtype: int64"
      ]
     },
     "execution_count": 8,
     "metadata": {},
     "output_type": "execute_result"
    }
   ],
   "source": [
    "#occupation : artist\n",
    "\n",
    "counting_genre_data_by_artist = genre_data_by_artist.sum(numeric_only=True)\n",
    "counting_genre_data_by_artist.sort_values(axis=0, inplace=True, ascending=False)\n",
    "counting_genre_data_by_artist"
   ]
  },
  {
   "cell_type": "code",
   "execution_count": 9,
   "id": "87f77c2a",
   "metadata": {},
   "outputs": [
    {
     "data": {
      "text/plain": [
       "Drama          238\n",
       "Comedy         168\n",
       "Romance        133\n",
       "Thriller       117\n",
       "Action         110\n",
       "Adventure       57\n",
       "Sci-Fi          56\n",
       "War             44\n",
       "Crime           41\n",
       "Children's      28\n",
       "Musical         27\n",
       "Mystery         27\n",
       "Animation       22\n",
       "Horror          18\n",
       "Documentary     13\n",
       "Film-Noir        9\n",
       "Fantasy          7\n",
       "Western          5\n",
       "unknown          0\n",
       "dtype: int64"
      ]
     },
     "execution_count": 9,
     "metadata": {},
     "output_type": "execute_result"
    }
   ],
   "source": [
    "#occupation : doctor\n",
    "\n",
    "counting_genre_data_by_doctor = genre_data_by_doctor.sum(numeric_only=True)\n",
    "counting_genre_data_by_doctor.sort_values(axis=0, inplace=True, ascending=False)\n",
    "counting_genre_data_by_doctor"
   ]
  },
  {
   "cell_type": "code",
   "execution_count": 10,
   "id": "7e459f86",
   "metadata": {},
   "outputs": [
    {
     "data": {
      "text/plain": [
       "Drama          4281\n",
       "Comedy         2708\n",
       "Romance        2006\n",
       "Action         1962\n",
       "Thriller       1767\n",
       "Adventure      1128\n",
       "War            1005\n",
       "Sci-Fi          986\n",
       "Crime           710\n",
       "Children's      593\n",
       "Mystery         532\n",
       "Musical         481\n",
       "Horror          421\n",
       "Animation       263\n",
       "Film-Noir       202\n",
       "Western         189\n",
       "Fantasy         112\n",
       "Documentary     107\n",
       "unknown           1\n",
       "dtype: int64"
      ]
     },
     "execution_count": 10,
     "metadata": {},
     "output_type": "execute_result"
    }
   ],
   "source": [
    "#occupation : educator\n",
    "\n",
    "counting_genre_data_by_educator = genre_data_by_educator.sum(numeric_only=True)\n",
    "counting_genre_data_by_educator.sort_values(axis=0, inplace=True, ascending=False)\n",
    "counting_genre_data_by_educator"
   ]
  },
  {
   "cell_type": "code",
   "execution_count": 11,
   "id": "87191662",
   "metadata": {},
   "outputs": [
    {
     "data": {
      "text/plain": [
       "Drama          3153\n",
       "Comedy         2438\n",
       "Action         2277\n",
       "Thriller       1712\n",
       "Romance        1467\n",
       "Adventure      1299\n",
       "Sci-Fi         1221\n",
       "War             858\n",
       "Children's      629\n",
       "Crime           611\n",
       "Musical         441\n",
       "Horror          414\n",
       "Animation       363\n",
       "Mystery         363\n",
       "Western         180\n",
       "Film-Noir       145\n",
       "Fantasy         125\n",
       "Documentary      51\n",
       "unknown           1\n",
       "dtype: int64"
      ]
     },
     "execution_count": 11,
     "metadata": {},
     "output_type": "execute_result"
    }
   ],
   "source": [
    "#occupation : engineer\n",
    "\n",
    "counting_genre_data_by_engineer = genre_data_by_engineer.sum(numeric_only=True)\n",
    "counting_genre_data_by_engineer.sort_values(axis=0, inplace=True, ascending=False)\n",
    "counting_genre_data_by_engineer"
   ]
  },
  {
   "cell_type": "code",
   "execution_count": 12,
   "id": "5a2db2fc",
   "metadata": {},
   "outputs": [
    {
     "data": {
      "text/plain": [
       "Drama          804\n",
       "Comedy         574\n",
       "Thriller       554\n",
       "Action         499\n",
       "Romance        342\n",
       "Sci-Fi         289\n",
       "Adventure      249\n",
       "Crime          207\n",
       "Horror         192\n",
       "War            174\n",
       "Mystery        132\n",
       "Children's     104\n",
       "Musical         68\n",
       "Animation       62\n",
       "Film-Noir       47\n",
       "Western         27\n",
       "Fantasy         25\n",
       "Documentary     23\n",
       "unknown          1\n",
       "dtype: int64"
      ]
     },
     "execution_count": 12,
     "metadata": {},
     "output_type": "execute_result"
    }
   ],
   "source": [
    "#occupation : entertainment\n",
    "\n",
    "counting_genre_data_by_entertainment = genre_data_by_entertainment.sum(numeric_only=True)\n",
    "counting_genre_data_by_entertainment.sort_values(axis=0, inplace=True, ascending=False)\n",
    "counting_genre_data_by_entertainment"
   ]
  },
  {
   "cell_type": "code",
   "execution_count": 13,
   "id": "3111d059",
   "metadata": {},
   "outputs": [
    {
     "data": {
      "text/plain": [
       "Drama          1407\n",
       "Comedy          951\n",
       "Thriller        811\n",
       "Action          808\n",
       "Romance         592\n",
       "Adventure       436\n",
       "Sci-Fi          391\n",
       "War             312\n",
       "Crime           287\n",
       "Children's      232\n",
       "Mystery         203\n",
       "Horror          155\n",
       "Musical         131\n",
       "Animation        91\n",
       "Film-Noir        58\n",
       "Fantasy          50\n",
       "Western          49\n",
       "Documentary      26\n",
       "unknown           1\n",
       "dtype: int64"
      ]
     },
     "execution_count": 13,
     "metadata": {},
     "output_type": "execute_result"
    }
   ],
   "source": [
    "#occupation : executive\n",
    "\n",
    "counting_genre_data_by_executive = genre_data_by_executive.sum(numeric_only=True)\n",
    "counting_genre_data_by_executive.sort_values(axis=0, inplace=True, ascending=False)\n",
    "counting_genre_data_by_executive"
   ]
  },
  {
   "cell_type": "code",
   "execution_count": 14,
   "id": "b313e9b5",
   "metadata": {},
   "outputs": [
    {
     "data": {
      "text/plain": [
       "Drama          1297\n",
       "Comedy          722\n",
       "Action          577\n",
       "Thriller        563\n",
       "Romance         499\n",
       "Adventure       323\n",
       "Sci-Fi          266\n",
       "War             230\n",
       "Children's      213\n",
       "Crime           200\n",
       "Mystery         140\n",
       "Musical         126\n",
       "Horror          120\n",
       "Animation        89\n",
       "Film-Noir        50\n",
       "Western          47\n",
       "Documentary      45\n",
       "Fantasy          38\n",
       "unknown           0\n",
       "dtype: int64"
      ]
     },
     "execution_count": 14,
     "metadata": {},
     "output_type": "execute_result"
    }
   ],
   "source": [
    "#occupation : healthcare\n",
    "\n",
    "counting_genre_data_by_healthcare = genre_data_by_healthcare.sum(numeric_only=True)\n",
    "counting_genre_data_by_healthcare.sort_values(axis=0, inplace=True, ascending=False)\n",
    "counting_genre_data_by_healthcare"
   ]
  },
  {
   "cell_type": "code",
   "execution_count": 15,
   "id": "0e074fe2",
   "metadata": {},
   "outputs": [
    {
     "data": {
      "text/plain": [
       "Drama          104\n",
       "Thriller        95\n",
       "Comedy          93\n",
       "Action          92\n",
       "Romance         59\n",
       "Adventure       41\n",
       "Mystery         32\n",
       "Sci-Fi          30\n",
       "War             28\n",
       "Children's      25\n",
       "Crime           25\n",
       "Musical         15\n",
       "Animation        9\n",
       "Horror           9\n",
       "Film-Noir        4\n",
       "Fantasy          3\n",
       "Documentary      2\n",
       "unknown          0\n",
       "Western          0\n",
       "dtype: int64"
      ]
     },
     "execution_count": 15,
     "metadata": {},
     "output_type": "execute_result"
    }
   ],
   "source": [
    "#occupation : homemaker\n",
    "\n",
    "counting_genre_data_by_homemaker = genre_data_by_homemaker.sum(numeric_only=True)\n",
    "counting_genre_data_by_homemaker.sort_values(axis=0, inplace=True, ascending=False)\n",
    "counting_genre_data_by_homemaker"
   ]
  },
  {
   "cell_type": "code",
   "execution_count": 16,
   "id": "b8ac263a",
   "metadata": {},
   "outputs": [
    {
     "data": {
      "text/plain": [
       "Drama          543\n",
       "Comedy         460\n",
       "Action         283\n",
       "Romance        272\n",
       "Thriller       247\n",
       "Adventure      142\n",
       "War            142\n",
       "Sci-Fi         141\n",
       "Crime          107\n",
       "Children's      83\n",
       "Mystery         78\n",
       "Musical         72\n",
       "Horror          60\n",
       "Film-Noir       36\n",
       "Western         35\n",
       "Animation       35\n",
       "Fantasy         14\n",
       "Documentary     10\n",
       "unknown          0\n",
       "dtype: int64"
      ]
     },
     "execution_count": 16,
     "metadata": {},
     "output_type": "execute_result"
    }
   ],
   "source": [
    "#occupation : lawyer\n",
    "\n",
    "counting_genre_data_by_lawyer = genre_data_by_lawyer.sum(numeric_only=True)\n",
    "counting_genre_data_by_lawyer.sort_values(axis=0, inplace=True, ascending=False)\n",
    "counting_genre_data_by_lawyer"
   ]
  },
  {
   "cell_type": "code",
   "execution_count": 17,
   "id": "8d7590ca",
   "metadata": {},
   "outputs": [
    {
     "data": {
      "text/plain": [
       "Drama          2557\n",
       "Comedy         1576\n",
       "Romance        1245\n",
       "Action          988\n",
       "Thriller        977\n",
       "Adventure       536\n",
       "Sci-Fi          508\n",
       "War             481\n",
       "Crime           370\n",
       "Mystery         293\n",
       "Children's      290\n",
       "Musical         238\n",
       "Horror          226\n",
       "Animation       159\n",
       "Film-Noir        96\n",
       "Western          82\n",
       "Fantasy          55\n",
       "Documentary      48\n",
       "unknown           0\n",
       "dtype: int64"
      ]
     },
     "execution_count": 17,
     "metadata": {},
     "output_type": "execute_result"
    }
   ],
   "source": [
    "#occupation : librarian\n",
    "\n",
    "counting_genre_data_by_librarian = genre_data_by_librarian.sum(numeric_only=True)\n",
    "counting_genre_data_by_librarian.sort_values(axis=0, inplace=True, ascending=False)\n",
    "counting_genre_data_by_librarian"
   ]
  },
  {
   "cell_type": "code",
   "execution_count": 18,
   "id": "addb45ce",
   "metadata": {},
   "outputs": [
    {
     "data": {
      "text/plain": [
       "Drama          824\n",
       "Comedy         535\n",
       "Action         477\n",
       "Thriller       442\n",
       "Romance        383\n",
       "Adventure      246\n",
       "War            228\n",
       "Sci-Fi         221\n",
       "Children's     163\n",
       "Crime          161\n",
       "Mystery        128\n",
       "Musical        114\n",
       "Horror          86\n",
       "Animation       79\n",
       "Film-Noir       40\n",
       "Western         35\n",
       "Fantasy         20\n",
       "Documentary     12\n",
       "unknown          0\n",
       "dtype: int64"
      ]
     },
     "execution_count": 18,
     "metadata": {},
     "output_type": "execute_result"
    }
   ],
   "source": [
    "#occupation : marketing\n",
    "\n",
    "counting_genre_data_by_marketing = genre_data_by_marketing.sum(numeric_only=True)\n",
    "counting_genre_data_by_marketing.sort_values(axis=0, inplace=True, ascending=False)\n",
    "counting_genre_data_by_marketing"
   ]
  },
  {
   "cell_type": "code",
   "execution_count": 19,
   "id": "983a84b0",
   "metadata": {},
   "outputs": [
    {
     "data": {
      "text/plain": [
       "Action         301\n",
       "Drama          268\n",
       "Thriller       262\n",
       "Comedy         255\n",
       "Adventure      160\n",
       "Romance        150\n",
       "Sci-Fi         145\n",
       "Children's      91\n",
       "Crime           74\n",
       "Horror          56\n",
       "War             55\n",
       "Animation       43\n",
       "Musical         43\n",
       "Mystery         33\n",
       "Fantasy         12\n",
       "Film-Noir       12\n",
       "Western         10\n",
       "Documentary      1\n",
       "unknown          1\n",
       "dtype: int64"
      ]
     },
     "execution_count": 19,
     "metadata": {},
     "output_type": "execute_result"
    }
   ],
   "source": [
    "#occupation : none\n",
    "\n",
    "counting_genre_data_by_none = genre_data_by_none.sum(numeric_only=True)\n",
    "counting_genre_data_by_none.sort_values(axis=0, inplace=True, ascending=False)\n",
    "counting_genre_data_by_none"
   ]
  },
  {
   "cell_type": "code",
   "execution_count": 20,
   "id": "397c9410",
   "metadata": {},
   "outputs": [
    {
     "data": {
      "text/plain": [
       "Drama          4307\n",
       "Comedy         3165\n",
       "Action         2672\n",
       "Thriller       2321\n",
       "Romance        2177\n",
       "Adventure      1431\n",
       "Sci-Fi         1242\n",
       "War            1000\n",
       "Children's      881\n",
       "Crime           828\n",
       "Mystery         579\n",
       "Musical         566\n",
       "Horror          535\n",
       "Animation       421\n",
       "Western         172\n",
       "Film-Noir       146\n",
       "Fantasy         144\n",
       "Documentary      65\n",
       "unknown           1\n",
       "dtype: int64"
      ]
     },
     "execution_count": 20,
     "metadata": {},
     "output_type": "execute_result"
    }
   ],
   "source": [
    "#occupation : other\n",
    "\n",
    "counting_genre_data_by_other = genre_data_by_other.sum(numeric_only=True)\n",
    "counting_genre_data_by_other.sort_values(axis=0, inplace=True, ascending=False)\n",
    "counting_genre_data_by_other"
   ]
  },
  {
   "cell_type": "code",
   "execution_count": 21,
   "id": "940d2fdd",
   "metadata": {},
   "outputs": [
    {
     "data": {
      "text/plain": [
       "Drama          2800\n",
       "Comedy         2418\n",
       "Action         2322\n",
       "Thriller       1750\n",
       "Romance        1400\n",
       "Adventure      1240\n",
       "Sci-Fi         1167\n",
       "War             755\n",
       "Crime           666\n",
       "Children's      583\n",
       "Horror          389\n",
       "Musical         385\n",
       "Mystery         375\n",
       "Animation       312\n",
       "Western         162\n",
       "Film-Noir       141\n",
       "Fantasy         117\n",
       "Documentary      51\n",
       "unknown           1\n",
       "dtype: int64"
      ]
     },
     "execution_count": 21,
     "metadata": {},
     "output_type": "execute_result"
    }
   ],
   "source": [
    "#occupation : programmer\n",
    "\n",
    "counting_genre_data_by_programmer = genre_data_by_programmer.sum(numeric_only=True)\n",
    "counting_genre_data_by_programmer.sort_values(axis=0, inplace=True, ascending=False)\n",
    "counting_genre_data_by_programmer"
   ]
  },
  {
   "cell_type": "code",
   "execution_count": 22,
   "id": "fad41779",
   "metadata": {},
   "outputs": [
    {
     "data": {
      "text/plain": [
       "Drama          727\n",
       "Comedy         512\n",
       "Romance        321\n",
       "Thriller       309\n",
       "Action         278\n",
       "Adventure      160\n",
       "War            145\n",
       "Crime          137\n",
       "Sci-Fi         130\n",
       "Children's     110\n",
       "Mystery         98\n",
       "Musical         93\n",
       "Horror          66\n",
       "Film-Noir       43\n",
       "Animation       35\n",
       "Western         33\n",
       "Fantasy         22\n",
       "Documentary     16\n",
       "unknown          0\n",
       "dtype: int64"
      ]
     },
     "execution_count": 22,
     "metadata": {},
     "output_type": "execute_result"
    }
   ],
   "source": [
    "#occupation : retired\n",
    "\n",
    "counting_genre_data_by_retired = genre_data_by_retired.sum(numeric_only=True)\n",
    "counting_genre_data_by_retired.sort_values(axis=0, inplace=True, ascending=False)\n",
    "counting_genre_data_by_retired"
   ]
  },
  {
   "cell_type": "code",
   "execution_count": 23,
   "id": "619ec9f7",
   "metadata": {},
   "outputs": [
    {
     "data": {
      "text/plain": [
       "Drama          317\n",
       "Comedy         314\n",
       "Action         222\n",
       "Thriller       200\n",
       "Romance        166\n",
       "Adventure       99\n",
       "Sci-Fi          98\n",
       "Crime           79\n",
       "War             77\n",
       "Horror          49\n",
       "Mystery         40\n",
       "Children's      38\n",
       "Musical         27\n",
       "Western         16\n",
       "Animation       15\n",
       "Film-Noir       14\n",
       "Fantasy          9\n",
       "Documentary      2\n",
       "unknown          0\n",
       "dtype: int64"
      ]
     },
     "execution_count": 23,
     "metadata": {},
     "output_type": "execute_result"
    }
   ],
   "source": [
    "#occupation : salesman\n",
    "\n",
    "counting_genre_data_by_salesman = genre_data_by_salesman.sum(numeric_only=True)\n",
    "counting_genre_data_by_salesman.sort_values(axis=0, inplace=True, ascending=False)\n",
    "counting_genre_data_by_salesman"
   ]
  },
  {
   "cell_type": "code",
   "execution_count": 24,
   "id": "703254ff",
   "metadata": {},
   "outputs": [
    {
     "data": {
      "text/plain": [
       "Drama          932\n",
       "Action         566\n",
       "Comedy         535\n",
       "Thriller       469\n",
       "Romance        440\n",
       "Sci-Fi         318\n",
       "Adventure      285\n",
       "War            255\n",
       "Crime          177\n",
       "Mystery        122\n",
       "Children's     108\n",
       "Musical         91\n",
       "Horror          70\n",
       "Animation       61\n",
       "Film-Noir       39\n",
       "Western         24\n",
       "Fantasy         20\n",
       "Documentary     17\n",
       "unknown          0\n",
       "dtype: int64"
      ]
     },
     "execution_count": 24,
     "metadata": {},
     "output_type": "execute_result"
    }
   ],
   "source": [
    "#occupation : scientist\n",
    "\n",
    "counting_genre_data_by_scientist = genre_data_by_scientist.sum(numeric_only=True)\n",
    "counting_genre_data_by_scientist.sort_values(axis=0, inplace=True, ascending=False)\n",
    "counting_genre_data_by_scientist"
   ]
  },
  {
   "cell_type": "code",
   "execution_count": 25,
   "id": "f5e9cf17",
   "metadata": {},
   "outputs": [
    {
     "data": {
      "text/plain": [
       "Drama          7777\n",
       "Comedy         6958\n",
       "Action         6398\n",
       "Thriller       5130\n",
       "Romance        4156\n",
       "Adventure      3358\n",
       "Sci-Fi         3069\n",
       "Crime          1836\n",
       "War            1770\n",
       "Children's     1759\n",
       "Horror         1340\n",
       "Musical        1078\n",
       "Mystery        1009\n",
       "Animation       914\n",
       "Western         408\n",
       "Fantasy         352\n",
       "Film-Noir       269\n",
       "Documentary     117\n",
       "unknown           1\n",
       "dtype: int64"
      ]
     },
     "execution_count": 25,
     "metadata": {},
     "output_type": "execute_result"
    }
   ],
   "source": [
    "#occupation : student\n",
    "\n",
    "counting_genre_data_by_student = genre_data_by_student.sum(numeric_only=True)\n",
    "counting_genre_data_by_student.sort_values(axis=0, inplace=True, ascending=False)\n",
    "counting_genre_data_by_student"
   ]
  },
  {
   "cell_type": "code",
   "execution_count": 26,
   "id": "1337a12f",
   "metadata": {},
   "outputs": [
    {
     "data": {
      "text/plain": [
       "Drama          1295\n",
       "Action         1079\n",
       "Comedy         1056\n",
       "Thriller        796\n",
       "Romance         645\n",
       "Adventure       558\n",
       "Sci-Fi          531\n",
       "War             383\n",
       "Crime           275\n",
       "Children's      221\n",
       "Mystery         177\n",
       "Musical         175\n",
       "Horror          164\n",
       "Animation       132\n",
       "Western          89\n",
       "Film-Noir        46\n",
       "Fantasy          38\n",
       "Documentary      24\n",
       "unknown           1\n",
       "dtype: int64"
      ]
     },
     "execution_count": 26,
     "metadata": {},
     "output_type": "execute_result"
    }
   ],
   "source": [
    "#occupation : technician\n",
    "\n",
    "counting_genre_data_by_technician = genre_data_by_technician.sum(numeric_only=True)\n",
    "counting_genre_data_by_technician.sort_values(axis=0, inplace=True, ascending=False)\n",
    "counting_genre_data_by_technician"
   ]
  },
  {
   "cell_type": "code",
   "execution_count": 27,
   "id": "bb9ce9be",
   "metadata": {},
   "outputs": [
    {
     "data": {
      "text/plain": [
       "Drama          2208\n",
       "Comedy         1574\n",
       "Thriller       1304\n",
       "Action         1292\n",
       "Romance        1007\n",
       "Adventure       674\n",
       "Sci-Fi          671\n",
       "Crime           498\n",
       "Horror          454\n",
       "War             445\n",
       "Children's      367\n",
       "Mystery         335\n",
       "Musical         272\n",
       "Animation       176\n",
       "Film-Noir       125\n",
       "Western          94\n",
       "Fantasy          71\n",
       "Documentary      46\n",
       "unknown           1\n",
       "dtype: int64"
      ]
     },
     "execution_count": 27,
     "metadata": {},
     "output_type": "execute_result"
    }
   ],
   "source": [
    "#occupation : writer\n",
    "\n",
    "counting_genre_data_by_writer = genre_data_by_writer.sum(numeric_only=True)\n",
    "counting_genre_data_by_writer.sort_values(axis=0, inplace=True, ascending=False)\n",
    "counting_genre_data_by_writer"
   ]
  },
  {
   "cell_type": "code",
   "execution_count": 28,
   "id": "6c102ae4",
   "metadata": {},
   "outputs": [
    {
     "data": {
      "text/plain": [
       "Film-Noir      3.921523\n",
       "War            3.815812\n",
       "Drama          3.687379\n",
       "Documentary    3.672823\n",
       "Mystery        3.638132\n",
       "Crime          3.632278\n",
       "Romance        3.621705\n",
       "Western        3.613269\n",
       "Animation      3.576699\n",
       "Sci-Fi         3.560723\n",
       "Musical        3.521397\n",
       "Thriller       3.509007\n",
       "Adventure      3.503527\n",
       "Action         3.480245\n",
       "Comedy         3.394073\n",
       "Children's     3.353244\n",
       "Horror         3.290389\n",
       "Fantasy        3.215237\n",
       "unknown        3.200000\n",
       "dtype: float64"
      ]
     },
     "execution_count": 28,
     "metadata": {},
     "output_type": "execute_result"
    }
   ],
   "source": [
    "#3-B-1)for all user\n",
    "\n",
    "#rating과 장르 컬럼만 남김\n",
    "rating_of_genre_data_for_all_users = data_merged.drop([\"movi_id\",\"movie_title\",\"user_id\",\"timestamp\", \"age\", \"gender\", \"occupation\", \"zip_code\"], axis=1).copy()\n",
    "#rating 열을 추출\n",
    "ratings_for_all_users = rating_of_genre_data_for_all_users['rating']\n",
    "#rating_of_genre_data_for_all_users(각 평가별로 영화가 어떤 장르인지 0,1로 표시)에서 rating열을 삭제하고,\n",
    "#각 장르별로 모든 개수를 더하여 각 장르의 총개수를 추출\n",
    "count_of_ratings_for_all_users = rating_of_genre_data_for_all_users.drop(['rating'], axis=1).sum()\n",
    "\n",
    "#rating_of_genre_data_for_all_users(각 평가별로 영화가 어떤 장르인지 0,1로 표시)에서 rating열을 곱하여서 실제 획득한 rating을 얻고,\n",
    "#장르별로 실제 획득한 ratin을 더해주어 각 장르별로 얻은 rating의 총 합을 추출\n",
    "sum_of_ratings_for_all_users = rating_of_genre_data_for_all_users.drop(['rating'], axis=1).mul(ratings_for_all_users, axis=0).sum()\n",
    "\n",
    "#각 장르별로 얻은 rating의 총 합을 각 장르의 총 개수로 나누어주어 각 장르별로 얻은 rating의 평균값 추출\n",
    "avg_of_genre_for_all_users = sum_of_ratings_for_all_users / count_of_ratings_for_all_users\n",
    "#각 장르별로 얻은 rating의 평균값 기준 내림차순 정렬 후 출력\n",
    "avg_of_genre_for_all_users.sort_values(axis=0, inplace=True, ascending=False)\n",
    "avg_of_genre_for_all_users\n"
   ]
  },
  {
   "cell_type": "code",
   "execution_count": 29,
   "id": "6bc1d0fc",
   "metadata": {},
   "outputs": [],
   "source": [
    "#3-B-2)by gender\n",
    "\n",
    "rating_of_genre_data_by_gender = data_merged.drop([\"movi_id\",\"movie_title\",\"user_id\",\"timestamp\", \"age\", \"occupation\", \"zip_code\"], axis=1).copy()\n",
    "\n",
    "#gender별로 나누기\n",
    "rating_of_genre_data_by_male = rating_of_genre_data_by_gender[rating_of_genre_data_by_gender['gender'].isin(['M'])].copy()\n",
    "rating_of_genre_data_by_female = rating_of_genre_data_by_gender[rating_of_genre_data_by_gender['gender'].isin(['F'])].copy()\n"
   ]
  },
  {
   "cell_type": "code",
   "execution_count": 30,
   "id": "e3fc3566",
   "metadata": {},
   "outputs": [
    {
     "data": {
      "text/plain": [
       "Film-Noir      3.973294\n",
       "War            3.826328\n",
       "Drama          3.696957\n",
       "Documentary    3.691769\n",
       "Mystery        3.664208\n",
       "Crime          3.654049\n",
       "Western        3.637896\n",
       "Romance        3.607072\n",
       "Sci-Fi         3.577072\n",
       "Animation      3.557471\n",
       "Thriller       3.512927\n",
       "Adventure      3.499246\n",
       "Action         3.479228\n",
       "Musical        3.472665\n",
       "Comedy         3.382972\n",
       "Children's     3.320000\n",
       "Horror         3.298058\n",
       "Fantasy        3.220425\n",
       "unknown        3.125000\n",
       "dtype: float64"
      ]
     },
     "execution_count": 30,
     "metadata": {},
     "output_type": "execute_result"
    }
   ],
   "source": [
    "#각 장르별로 얻은 rating의 평균값 기준 내림차순 정렬 후 출력\n",
    "\n",
    "#gender : M\n",
    "ratings_by_male = rating_of_genre_data_by_male['rating']\n",
    "count_of_ratings_by_male = rating_of_genre_data_by_male.drop(['rating','gender'], axis=1).sum()\n",
    "\n",
    "sum_of_ratings_by_male = rating_of_genre_data_by_male.drop(['rating','gender'], axis=1).mul(ratings_by_male, axis=0).sum()\n",
    "\n",
    "avg_of_genre_by_male = sum_of_ratings_by_male / count_of_ratings_by_male\n",
    "avg_of_genre_by_male.sort_values(axis=0, inplace=True, ascending=False)\n",
    "avg_of_genre_by_male.fillna(0)"
   ]
  },
  {
   "cell_type": "code",
   "execution_count": 31,
   "id": "aae853eb",
   "metadata": {},
   "outputs": [
    {
     "data": {
      "text/plain": [
       "War            3.781179\n",
       "Film-Noir      3.740260\n",
       "Drama          3.662246\n",
       "Romance        3.655685\n",
       "Musical        3.640083\n",
       "Animation      3.627136\n",
       "Documentary    3.614973\n",
       "Mystery        3.560122\n",
       "Crime          3.556299\n",
       "Adventure      3.517988\n",
       "Western        3.514825\n",
       "unknown        3.500000\n",
       "Sci-Fi         3.497908\n",
       "Thriller       3.496068\n",
       "Action         3.484013\n",
       "Children's     3.426971\n",
       "Comedy         3.424021\n",
       "Horror         3.263993\n",
       "Fantasy        3.201102\n",
       "dtype: float64"
      ]
     },
     "execution_count": 31,
     "metadata": {},
     "output_type": "execute_result"
    }
   ],
   "source": [
    "#gender : F\n",
    "ratings_by_female = rating_of_genre_data_by_female['rating']\n",
    "count_of_ratings_by_female = rating_of_genre_data_by_female.drop(['rating','gender'], axis=1).sum()\n",
    "\n",
    "sum_of_ratings_by_female = rating_of_genre_data_by_female.drop(['rating','gender'], axis=1).mul(ratings_by_female, axis=0).sum()\n",
    "\n",
    "avg_of_genre_by_female = sum_of_ratings_by_female / count_of_ratings_by_female\n",
    "avg_of_genre_by_female.sort_values(axis=0, inplace=True, ascending=False)\n",
    "avg_of_genre_by_female.fillna(0)"
   ]
  },
  {
   "cell_type": "code",
   "execution_count": 32,
   "id": "f0dde560",
   "metadata": {},
   "outputs": [],
   "source": [
    "#3-B-3)by occupation\n",
    "\n",
    "rating_of_genre_data_by_occupation = data_merged.drop([\"movi_id\",\"movie_title\",\"user_id\",\"timestamp\", \"age\", \"gender\", \"zip_code\"], axis=1).copy()\n",
    "\n",
    "#occupation별로 나누기\n",
    "rating_of_genre_data_by_administrator = rating_of_genre_data_by_occupation[rating_of_genre_data_by_occupation['occupation'].isin(['administrator'])].copy()\n",
    "rating_of_genre_data_by_artist = rating_of_genre_data_by_occupation[rating_of_genre_data_by_occupation['occupation'].isin(['artist'])].copy()\n",
    "rating_of_genre_data_by_doctor = rating_of_genre_data_by_occupation[rating_of_genre_data_by_occupation['occupation'].isin(['doctor'])].copy()\n",
    "rating_of_genre_data_by_educator = rating_of_genre_data_by_occupation[rating_of_genre_data_by_occupation['occupation'].isin(['educator'])].copy()\n",
    "rating_of_genre_data_by_engineer = rating_of_genre_data_by_occupation[rating_of_genre_data_by_occupation['occupation'].isin(['engineer'])].copy()\n",
    "rating_of_genre_data_by_entertainment = rating_of_genre_data_by_occupation[rating_of_genre_data_by_occupation['occupation'].isin(['entertainment'])].copy()\n",
    "rating_of_genre_data_by_executive = rating_of_genre_data_by_occupation[rating_of_genre_data_by_occupation['occupation'].isin(['executive'])].copy()\n",
    "rating_of_genre_data_by_healthcare = rating_of_genre_data_by_occupation[rating_of_genre_data_by_occupation['occupation'].isin(['healthcare'])].copy()\n",
    "rating_of_genre_data_by_homemaker = rating_of_genre_data_by_occupation[rating_of_genre_data_by_occupation['occupation'].isin(['homemaker'])].copy()\n",
    "rating_of_genre_data_by_lawyer = rating_of_genre_data_by_occupation[rating_of_genre_data_by_occupation['occupation'].isin(['lawyer'])].copy()\n",
    "rating_of_genre_data_by_librarian = rating_of_genre_data_by_occupation[rating_of_genre_data_by_occupation['occupation'].isin(['librarian'])].copy()\n",
    "rating_of_genre_data_by_marketing = rating_of_genre_data_by_occupation[rating_of_genre_data_by_occupation['occupation'].isin(['marketing'])].copy()\n",
    "rating_of_genre_data_by_none = rating_of_genre_data_by_occupation[rating_of_genre_data_by_occupation['occupation'].isin(['none'])].copy()\n",
    "rating_of_genre_data_by_other = rating_of_genre_data_by_occupation[rating_of_genre_data_by_occupation['occupation'].isin(['other'])].copy()\n",
    "rating_of_genre_data_by_programmer = rating_of_genre_data_by_occupation[rating_of_genre_data_by_occupation['occupation'].isin(['programmer'])].copy()\n",
    "rating_of_genre_data_by_retired = rating_of_genre_data_by_occupation[rating_of_genre_data_by_occupation['occupation'].isin(['retired'])].copy()\n",
    "rating_of_genre_data_by_salesman = rating_of_genre_data_by_occupation[rating_of_genre_data_by_occupation['occupation'].isin(['salesman'])].copy()\n",
    "rating_of_genre_data_by_scientist = rating_of_genre_data_by_occupation[rating_of_genre_data_by_occupation['occupation'].isin(['scientist'])].copy()\n",
    "rating_of_genre_data_by_student = rating_of_genre_data_by_occupation[rating_of_genre_data_by_occupation['occupation'].isin(['student'])].copy()\n",
    "rating_of_genre_data_by_technician = rating_of_genre_data_by_occupation[rating_of_genre_data_by_occupation['occupation'].isin(['technician'])].copy()\n",
    "rating_of_genre_data_by_writer = rating_of_genre_data_by_occupation[rating_of_genre_data_by_occupation['occupation'].isin(['writer'])].copy()\n",
    " "
   ]
  },
  {
   "cell_type": "code",
   "execution_count": 33,
   "id": "eedfb114",
   "metadata": {},
   "outputs": [
    {
     "data": {
      "text/plain": [
       "Film-Noir      3.972789\n",
       "War            3.924936\n",
       "Documentary    3.875000\n",
       "Drama          3.796063\n",
       "Mystery        3.763636\n",
       "Romance        3.741391\n",
       "Animation      3.738916\n",
       "Western        3.702381\n",
       "Crime          3.693805\n",
       "Sci-Fi         3.650743\n",
       "Thriller       3.604459\n",
       "Musical        3.596045\n",
       "Action         3.538751\n",
       "Adventure      3.521569\n",
       "Comedy         3.494780\n",
       "Fantasy        3.468085\n",
       "Children's     3.448052\n",
       "Horror         3.393862\n",
       "unknown        0.000000\n",
       "dtype: float64"
      ]
     },
     "execution_count": 33,
     "metadata": {},
     "output_type": "execute_result"
    }
   ],
   "source": [
    "#각 장르별로 얻은 rating의 평균값 기준 내림차순 정렬 후 출력\n",
    "\n",
    "#occupation : administrator\n",
    "ratings_by_administrator = rating_of_genre_data_by_administrator['rating']\n",
    "count_of_ratings_by_administrator = rating_of_genre_data_by_administrator.drop(['rating','occupation'], axis=1).sum()\n",
    "\n",
    "sum_of_ratings_by_administrator = rating_of_genre_data_by_administrator.drop(['rating','occupation'], axis=1).mul(ratings_by_administrator, axis=0).sum()\n",
    "\n",
    "avg_of_genre_by_administrator = sum_of_ratings_by_administrator / count_of_ratings_by_administrator\n",
    "avg_of_genre_by_administrator.sort_values(axis=0, inplace=True, ascending=False)\n",
    "avg_of_genre_by_administrator.fillna(0)"
   ]
  },
  {
   "cell_type": "code",
   "execution_count": 34,
   "id": "37a4a9c4",
   "metadata": {},
   "outputs": [
    {
     "data": {
      "text/plain": [
       "Film-Noir      4.234375\n",
       "Documentary    4.147059\n",
       "War            3.902222\n",
       "Western        3.862069\n",
       "Sci-Fi         3.818182\n",
       "Mystery        3.792683\n",
       "Drama          3.789969\n",
       "Romance        3.729437\n",
       "Crime          3.676617\n",
       "Thriller       3.590336\n",
       "Adventure      3.581994\n",
       "Action         3.539773\n",
       "Comedy         3.521880\n",
       "Horror         3.460784\n",
       "Animation      3.421488\n",
       "Musical        3.414013\n",
       "Children's     3.391089\n",
       "Fantasy        3.291667\n",
       "unknown        0.000000\n",
       "dtype: float64"
      ]
     },
     "execution_count": 34,
     "metadata": {},
     "output_type": "execute_result"
    }
   ],
   "source": [
    "#occupation : artist\n",
    "ratings_by_artist = rating_of_genre_data_by_artist['rating']\n",
    "count_of_ratings_by_artist = rating_of_genre_data_by_artist.drop(['rating','occupation'], axis=1).sum()\n",
    "\n",
    "sum_of_ratings_by_artist = rating_of_genre_data_by_artist.drop(['rating','occupation'], axis=1).mul(ratings_by_artist, axis=0).sum()\n",
    "\n",
    "avg_of_genre_by_artist = sum_of_ratings_by_artist / count_of_ratings_by_artist\n",
    "avg_of_genre_by_artist.sort_values(axis=0, inplace=True, ascending=False)\n",
    "avg_of_genre_by_artist.fillna(0)"
   ]
  },
  {
   "cell_type": "code",
   "execution_count": 35,
   "id": "64b4fc34",
   "metadata": {},
   "outputs": [
    {
     "data": {
      "text/plain": [
       "War            4.159091\n",
       "Film-Noir      4.111111\n",
       "Mystery        3.962963\n",
       "Crime          3.804878\n",
       "Western        3.800000\n",
       "Drama          3.785714\n",
       "Thriller       3.769231\n",
       "Romance        3.699248\n",
       "Action         3.618182\n",
       "Musical        3.592593\n",
       "Adventure      3.561404\n",
       "Comedy         3.559524\n",
       "Horror         3.500000\n",
       "Children's     3.500000\n",
       "Sci-Fi         3.500000\n",
       "Documentary    3.461538\n",
       "Animation      3.363636\n",
       "Fantasy        3.000000\n",
       "unknown        0.000000\n",
       "dtype: float64"
      ]
     },
     "execution_count": 35,
     "metadata": {},
     "output_type": "execute_result"
    }
   ],
   "source": [
    "#occupation : doctor\n",
    "ratings_by_doctor = rating_of_genre_data_by_doctor['rating']\n",
    "count_of_ratings_by_doctor = rating_of_genre_data_by_doctor.drop(['rating','occupation'], axis=1).sum()\n",
    "\n",
    "sum_of_ratings_by_doctor = rating_of_genre_data_by_doctor.drop(['rating','occupation'], axis=1).mul(ratings_by_doctor, axis=0).sum()\n",
    "\n",
    "avg_of_genre_by_doctor = sum_of_ratings_by_doctor / count_of_ratings_by_doctor\n",
    "avg_of_genre_by_doctor.sort_values(axis=0, inplace=True, ascending=False)\n",
    "avg_of_genre_by_doctor.fillna(0)"
   ]
  },
  {
   "cell_type": "code",
   "execution_count": 36,
   "id": "64a1057a",
   "metadata": {},
   "outputs": [
    {
     "data": {
      "text/plain": [
       "Film-Noir      4.064356\n",
       "War            3.908458\n",
       "Western        3.851852\n",
       "Drama          3.811259\n",
       "Mystery        3.789474\n",
       "Documentary    3.775701\n",
       "Romance        3.758724\n",
       "Crime          3.752113\n",
       "Sci-Fi         3.622718\n",
       "Adventure      3.619681\n",
       "Musical        3.594595\n",
       "Animation      3.593156\n",
       "Thriller       3.581777\n",
       "Action         3.581549\n",
       "Comedy         3.564993\n",
       "Fantasy        3.508929\n",
       "Children's     3.397976\n",
       "Horror         3.171021\n",
       "unknown        3.000000\n",
       "dtype: float64"
      ]
     },
     "execution_count": 36,
     "metadata": {},
     "output_type": "execute_result"
    }
   ],
   "source": [
    "#occupation : educator\n",
    "ratings_by_educator = rating_of_genre_data_by_educator['rating']\n",
    "count_of_ratings_by_educator = rating_of_genre_data_by_educator.drop(['rating','occupation'], axis=1).sum()\n",
    "\n",
    "sum_of_ratings_by_educator = rating_of_genre_data_by_educator.drop(['rating','occupation'], axis=1).mul(ratings_by_educator, axis=0).sum()\n",
    "\n",
    "avg_of_genre_by_educator = sum_of_ratings_by_educator / count_of_ratings_by_educator\n",
    "avg_of_genre_by_educator.sort_values(axis=0, inplace=True, ascending=False)\n",
    "avg_of_genre_by_educator.fillna(0)"
   ]
  },
  {
   "cell_type": "code",
   "execution_count": 37,
   "id": "188564c7",
   "metadata": {},
   "outputs": [
    {
     "data": {
      "text/plain": [
       "Film-Noir      3.924138\n",
       "War            3.839161\n",
       "Drama          3.701554\n",
       "Documentary    3.666667\n",
       "Crime          3.666121\n",
       "Romance        3.644853\n",
       "Mystery        3.633609\n",
       "Animation      3.614325\n",
       "Western        3.600000\n",
       "Sci-Fi         3.583948\n",
       "Adventure      3.538876\n",
       "Musical        3.517007\n",
       "Thriller       3.489486\n",
       "Action         3.488801\n",
       "Comedy         3.433552\n",
       "Children's     3.386328\n",
       "Horror         3.282609\n",
       "Fantasy        3.200000\n",
       "unknown        3.000000\n",
       "dtype: float64"
      ]
     },
     "execution_count": 37,
     "metadata": {},
     "output_type": "execute_result"
    }
   ],
   "source": [
    "#occupation : engineer\n",
    "ratings_by_engineer = rating_of_genre_data_by_engineer['rating']\n",
    "count_of_ratings_by_engineer = rating_of_genre_data_by_engineer.drop(['rating','occupation'], axis=1).sum()\n",
    "\n",
    "sum_of_ratings_by_engineer = rating_of_genre_data_by_engineer.drop(['rating','occupation'], axis=1).mul(ratings_by_engineer, axis=0).sum()\n",
    "\n",
    "avg_of_genre_by_engineer = sum_of_ratings_by_engineer / count_of_ratings_by_engineer\n",
    "avg_of_genre_by_engineer.sort_values(axis=0, inplace=True, ascending=False)\n",
    "avg_of_genre_by_engineer.fillna(0)"
   ]
  },
  {
   "cell_type": "code",
   "execution_count": 38,
   "id": "68acbce5",
   "metadata": {},
   "outputs": [
    {
     "data": {
      "text/plain": [
       "unknown        4.000000\n",
       "Film-Noir      3.914894\n",
       "Documentary    3.869565\n",
       "War            3.804598\n",
       "Crime          3.710145\n",
       "Drama          3.605721\n",
       "Western        3.592593\n",
       "Sci-Fi         3.529412\n",
       "Romance        3.488304\n",
       "Mystery        3.477273\n",
       "Animation      3.467742\n",
       "Action         3.406814\n",
       "Thriller       3.395307\n",
       "Musical        3.367647\n",
       "Adventure      3.365462\n",
       "Comedy         3.296167\n",
       "Horror         3.229167\n",
       "Children's     3.086538\n",
       "Fantasy        2.960000\n",
       "dtype: float64"
      ]
     },
     "execution_count": 38,
     "metadata": {},
     "output_type": "execute_result"
    }
   ],
   "source": [
    "#occupation : entertainment\n",
    "ratings_by_entertainment = rating_of_genre_data_by_entertainment['rating']\n",
    "count_of_ratings_by_entertainment = rating_of_genre_data_by_entertainment.drop(['rating','occupation'], axis=1).sum()\n",
    "\n",
    "sum_of_ratings_by_entertainment = rating_of_genre_data_by_entertainment.drop(['rating','occupation'], axis=1).mul(ratings_by_entertainment, axis=0).sum()\n",
    "\n",
    "avg_of_genre_by_entertainment = sum_of_ratings_by_entertainment / count_of_ratings_by_entertainment\n",
    "avg_of_genre_by_entertainment.sort_values(axis=0, inplace=True, ascending=False)\n",
    "avg_of_genre_by_entertainment.fillna(0)"
   ]
  },
  {
   "cell_type": "code",
   "execution_count": 39,
   "id": "19f0b4c9",
   "metadata": {},
   "outputs": [
    {
     "data": {
      "text/plain": [
       "War            3.823718\n",
       "Western        3.673469\n",
       "Sci-Fi         3.626598\n",
       "Musical        3.625954\n",
       "Film-Noir      3.603448\n",
       "Mystery        3.600985\n",
       "Animation      3.560440\n",
       "Action         3.532178\n",
       "Adventure      3.529817\n",
       "Thriller       3.521578\n",
       "Crime          3.505226\n",
       "Drama          3.477612\n",
       "Romance        3.472973\n",
       "Children's     3.202586\n",
       "Horror         3.200000\n",
       "Comedy         3.098843\n",
       "Fantasy        2.840000\n",
       "Documentary    2.192308\n",
       "unknown        1.000000\n",
       "dtype: float64"
      ]
     },
     "execution_count": 39,
     "metadata": {},
     "output_type": "execute_result"
    }
   ],
   "source": [
    "#occupation : executive\n",
    "ratings_by_executive = rating_of_genre_data_by_executive['rating']\n",
    "count_of_ratings_by_executive = rating_of_genre_data_by_executive.drop(['rating','occupation'], axis=1).sum()\n",
    "\n",
    "sum_of_ratings_by_executive = rating_of_genre_data_by_executive.drop(['rating','occupation'], axis=1).mul(ratings_by_executive, axis=0).sum()\n",
    "\n",
    "avg_of_genre_by_executive = sum_of_ratings_by_executive / count_of_ratings_by_executive\n",
    "avg_of_genre_by_executive.sort_values(axis=0, inplace=True, ascending=False)\n",
    "avg_of_genre_by_executive.fillna(0)"
   ]
  },
  {
   "cell_type": "code",
   "execution_count": 40,
   "id": "b7674aed",
   "metadata": {},
   "outputs": [
    {
     "data": {
      "text/plain": [
       "Musical        3.277778\n",
       "War            3.265217\n",
       "Mystery        3.121429\n",
       "Film-Noir      3.100000\n",
       "Action         3.053726\n",
       "Thriller       3.049734\n",
       "Crime          3.045000\n",
       "Sci-Fi         3.030075\n",
       "Adventure      3.012384\n",
       "Romance        2.995992\n",
       "Drama          2.982267\n",
       "Animation      2.865169\n",
       "Western        2.829787\n",
       "Fantasy        2.789474\n",
       "Children's     2.718310\n",
       "Comedy         2.713296\n",
       "Documentary    2.600000\n",
       "Horror         2.550000\n",
       "unknown        0.000000\n",
       "dtype: float64"
      ]
     },
     "execution_count": 40,
     "metadata": {},
     "output_type": "execute_result"
    }
   ],
   "source": [
    "#occupation : healthcare\n",
    "ratings_by_healthcare = rating_of_genre_data_by_healthcare['rating']\n",
    "count_of_ratings_by_healthcare = rating_of_genre_data_by_healthcare.drop(['rating','occupation'], axis=1).sum()\n",
    "\n",
    "sum_of_ratings_by_healthcare = rating_of_genre_data_by_healthcare.drop(['rating','occupation'], axis=1).mul(ratings_by_healthcare, axis=0).sum()\n",
    "\n",
    "avg_of_genre_by_healthcare = sum_of_ratings_by_healthcare / count_of_ratings_by_healthcare\n",
    "avg_of_genre_by_healthcare.sort_values(axis=0, inplace=True, ascending=False)\n",
    "avg_of_genre_by_healthcare.fillna(0)"
   ]
  },
  {
   "cell_type": "code",
   "execution_count": 41,
   "id": "583cb910",
   "metadata": {},
   "outputs": [
    {
     "data": {
      "text/plain": [
       "Mystery        3.687500\n",
       "Drama          3.538462\n",
       "Romance        3.525424\n",
       "War            3.500000\n",
       "Documentary    3.500000\n",
       "Action         3.456522\n",
       "Adventure      3.439024\n",
       "Crime          3.360000\n",
       "Thriller       3.357895\n",
       "Film-Noir      3.250000\n",
       "Horror         3.222222\n",
       "Sci-Fi         3.200000\n",
       "Animation      3.111111\n",
       "Comedy         2.967742\n",
       "Children's     2.920000\n",
       "Musical        2.800000\n",
       "Fantasy        1.666667\n",
       "unknown        0.000000\n",
       "Western        0.000000\n",
       "dtype: float64"
      ]
     },
     "execution_count": 41,
     "metadata": {},
     "output_type": "execute_result"
    }
   ],
   "source": [
    "#occupation : homemaker\n",
    "ratings_by_homemaker = rating_of_genre_data_by_homemaker['rating']\n",
    "count_of_ratings_by_homemaker = rating_of_genre_data_by_homemaker.drop(['rating','occupation'], axis=1).sum()\n",
    "\n",
    "sum_of_ratings_by_homemaker = rating_of_genre_data_by_homemaker.drop(['rating','occupation'], axis=1).mul(ratings_by_homemaker, axis=0).sum()\n",
    "\n",
    "avg_of_genre_by_homemaker = sum_of_ratings_by_homemaker / count_of_ratings_by_homemaker\n",
    "avg_of_genre_by_homemaker.sort_values(axis=0, inplace=True, ascending=False)\n",
    "avg_of_genre_by_homemaker.fillna(0)"
   ]
  },
  {
   "cell_type": "code",
   "execution_count": 42,
   "id": "29a20765",
   "metadata": {},
   "outputs": [
    {
     "data": {
      "text/plain": [
       "Film-Noir      4.500000\n",
       "War            3.943662\n",
       "Mystery        3.923077\n",
       "Documentary    3.900000\n",
       "Horror         3.866667\n",
       "Musical        3.861111\n",
       "Adventure      3.859155\n",
       "Romance        3.834559\n",
       "Thriller       3.813765\n",
       "Drama          3.802947\n",
       "Western        3.771429\n",
       "Animation      3.771429\n",
       "Crime          3.747664\n",
       "Action         3.692580\n",
       "Sci-Fi         3.602837\n",
       "Comedy         3.493478\n",
       "Children's     3.373494\n",
       "Fantasy        3.142857\n",
       "unknown        0.000000\n",
       "dtype: float64"
      ]
     },
     "execution_count": 42,
     "metadata": {},
     "output_type": "execute_result"
    }
   ],
   "source": [
    "#occupation : lawyer\n",
    "ratings_by_lawyer = rating_of_genre_data_by_lawyer['rating']\n",
    "count_of_ratings_by_lawyer = rating_of_genre_data_by_lawyer.drop(['rating','occupation'], axis=1).sum()\n",
    "\n",
    "sum_of_ratings_by_lawyer = rating_of_genre_data_by_lawyer.drop(['rating','occupation'], axis=1).mul(ratings_by_lawyer, axis=0).sum()\n",
    "\n",
    "avg_of_genre_by_lawyer = sum_of_ratings_by_lawyer / count_of_ratings_by_lawyer\n",
    "avg_of_genre_by_lawyer.sort_values(axis=0, inplace=True, ascending=False)\n",
    "avg_of_genre_by_lawyer.fillna(0)"
   ]
  },
  {
   "cell_type": "code",
   "execution_count": 43,
   "id": "bd53910f",
   "metadata": {},
   "outputs": [
    {
     "data": {
      "text/plain": [
       "Film-Noir      3.968750\n",
       "Documentary    3.812500\n",
       "Drama          3.701603\n",
       "Mystery        3.689420\n",
       "War            3.683992\n",
       "Crime          3.654054\n",
       "Western        3.585366\n",
       "Animation      3.553459\n",
       "Romance        3.548594\n",
       "Thriller       3.507677\n",
       "Sci-Fi         3.486220\n",
       "Comedy         3.456853\n",
       "Adventure      3.404851\n",
       "Action         3.401822\n",
       "Children's     3.389655\n",
       "Musical        3.348739\n",
       "Fantasy        3.218182\n",
       "Horror         3.168142\n",
       "unknown        0.000000\n",
       "dtype: float64"
      ]
     },
     "execution_count": 43,
     "metadata": {},
     "output_type": "execute_result"
    }
   ],
   "source": [
    "#occupation : librarian\n",
    "ratings_by_librarian = rating_of_genre_data_by_librarian['rating']\n",
    "count_of_ratings_by_librarian = rating_of_genre_data_by_librarian.drop(['rating','occupation'], axis=1).sum()\n",
    "\n",
    "sum_of_ratings_by_librarian = rating_of_genre_data_by_librarian.drop(['rating','occupation'], axis=1).mul(ratings_by_librarian, axis=0).sum()\n",
    "\n",
    "avg_of_genre_by_librarian = sum_of_ratings_by_librarian / count_of_ratings_by_librarian\n",
    "avg_of_genre_by_librarian.sort_values(axis=0, inplace=True, ascending=False)\n",
    "avg_of_genre_by_librarian.fillna(0)"
   ]
  },
  {
   "cell_type": "code",
   "execution_count": 44,
   "id": "dbf58758",
   "metadata": {},
   "outputs": [
    {
     "data": {
      "text/plain": [
       "Film-Noir      4.100000\n",
       "War            3.846491\n",
       "Drama          3.608010\n",
       "Mystery        3.585938\n",
       "Documentary    3.583333\n",
       "Sci-Fi         3.547511\n",
       "Crime          3.515528\n",
       "Western        3.514286\n",
       "Action         3.484277\n",
       "Romance        3.477807\n",
       "Adventure      3.434959\n",
       "Thriller       3.423077\n",
       "Horror         3.418605\n",
       "Fantasy        3.400000\n",
       "Comedy         3.360748\n",
       "Musical        3.298246\n",
       "Animation      3.278481\n",
       "Children's     3.092025\n",
       "unknown        0.000000\n",
       "dtype: float64"
      ]
     },
     "execution_count": 44,
     "metadata": {},
     "output_type": "execute_result"
    }
   ],
   "source": [
    "#occupation : marketing\n",
    "ratings_by_marketing = rating_of_genre_data_by_marketing['rating']\n",
    "count_of_ratings_by_marketing = rating_of_genre_data_by_marketing.drop(['rating','occupation'], axis=1).sum()\n",
    "\n",
    "sum_of_ratings_by_marketing = rating_of_genre_data_by_marketing.drop(['rating','occupation'], axis=1).mul(ratings_by_marketing, axis=0).sum()\n",
    "\n",
    "avg_of_genre_by_marketing = sum_of_ratings_by_marketing / count_of_ratings_by_marketing\n",
    "avg_of_genre_by_marketing.sort_values(axis=0, inplace=True, ascending=False)\n",
    "avg_of_genre_by_marketing.fillna(0)"
   ]
  },
  {
   "cell_type": "code",
   "execution_count": 45,
   "id": "97524c76",
   "metadata": {},
   "outputs": [
    {
     "data": {
      "text/plain": [
       "unknown        5.000000\n",
       "War            4.072727\n",
       "Documentary    4.000000\n",
       "Animation      3.976744\n",
       "Drama          3.932836\n",
       "Romance        3.920000\n",
       "Musical        3.860465\n",
       "Horror         3.857143\n",
       "Thriller       3.835878\n",
       "Sci-Fi         3.806897\n",
       "Children's     3.725275\n",
       "Action         3.724252\n",
       "Adventure      3.706250\n",
       "Comedy         3.678431\n",
       "Crime          3.594595\n",
       "Fantasy        3.583333\n",
       "Mystery        3.545455\n",
       "Film-Noir      3.500000\n",
       "Western        3.500000\n",
       "dtype: float64"
      ]
     },
     "execution_count": 45,
     "metadata": {},
     "output_type": "execute_result"
    }
   ],
   "source": [
    "#occupation : none\n",
    "ratings_by_none = rating_of_genre_data_by_none['rating']\n",
    "count_of_ratings_by_none = rating_of_genre_data_by_none.drop(['rating','occupation'], axis=1).sum()\n",
    "\n",
    "sum_of_ratings_by_none = rating_of_genre_data_by_none.drop(['rating','occupation'], axis=1).mul(ratings_by_none, axis=0).sum()\n",
    "\n",
    "avg_of_genre_by_none = sum_of_ratings_by_none / count_of_ratings_by_none\n",
    "avg_of_genre_by_none.sort_values(axis=0, inplace=True, ascending=False)\n",
    "avg_of_genre_by_none.fillna(0)"
   ]
  },
  {
   "cell_type": "code",
   "execution_count": 46,
   "id": "d573c808",
   "metadata": {},
   "outputs": [
    {
     "data": {
      "text/plain": [
       "unknown        4.000000\n",
       "Film-Noir      3.842466\n",
       "War            3.842000\n",
       "Documentary    3.784615\n",
       "Drama          3.719294\n",
       "Animation      3.672209\n",
       "Western        3.627907\n",
       "Musical        3.627208\n",
       "Romance        3.614607\n",
       "Crime          3.595411\n",
       "Mystery        3.590674\n",
       "Adventure      3.554158\n",
       "Sci-Fi         3.516103\n",
       "Thriller       3.495476\n",
       "Children's     3.488082\n",
       "Action         3.475674\n",
       "Comedy         3.406951\n",
       "Fantasy        3.388889\n",
       "Horror         3.244860\n",
       "dtype: float64"
      ]
     },
     "execution_count": 46,
     "metadata": {},
     "output_type": "execute_result"
    }
   ],
   "source": [
    "#occupation : other\n",
    "ratings_by_other = rating_of_genre_data_by_other['rating']\n",
    "count_of_ratings_by_other = rating_of_genre_data_by_other.drop(['rating','occupation'], axis=1).sum()\n",
    "\n",
    "sum_of_ratings_by_other = rating_of_genre_data_by_other.drop(['rating','occupation'], axis=1).mul(ratings_by_other, axis=0).sum()\n",
    "\n",
    "avg_of_genre_by_other = sum_of_ratings_by_other / count_of_ratings_by_other\n",
    "avg_of_genre_by_other.sort_values(axis=0, inplace=True, ascending=False)\n",
    "avg_of_genre_by_other.fillna(0)"
   ]
  },
  {
   "cell_type": "code",
   "execution_count": 47,
   "id": "b27b5ff0",
   "metadata": {},
   "outputs": [
    {
     "data": {
      "text/plain": [
       "unknown        4.000000\n",
       "War            3.888742\n",
       "Film-Noir      3.886525\n",
       "Drama          3.755714\n",
       "Western        3.746914\n",
       "Documentary    3.725490\n",
       "Sci-Fi         3.680377\n",
       "Crime          3.669670\n",
       "Animation      3.660256\n",
       "Romance        3.643571\n",
       "Mystery        3.616000\n",
       "Adventure      3.595968\n",
       "Thriller       3.588000\n",
       "Action         3.565891\n",
       "Musical        3.524675\n",
       "Comedy         3.428040\n",
       "Fantasy        3.367521\n",
       "Children's     3.344768\n",
       "Horror         3.290488\n",
       "dtype: float64"
      ]
     },
     "execution_count": 47,
     "metadata": {},
     "output_type": "execute_result"
    }
   ],
   "source": [
    "#occupation : programmer\n",
    "ratings_by_programmer = rating_of_genre_data_by_programmer['rating']\n",
    "count_of_ratings_by_programmer = rating_of_genre_data_by_programmer.drop(['rating','occupation'], axis=1).sum()\n",
    "\n",
    "sum_of_ratings_by_programmer = rating_of_genre_data_by_programmer.drop(['rating','occupation'], axis=1).mul(ratings_by_programmer, axis=0).sum()\n",
    "\n",
    "avg_of_genre_by_programmer = sum_of_ratings_by_programmer / count_of_ratings_by_programmer\n",
    "avg_of_genre_by_programmer.sort_values(axis=0, inplace=True, ascending=False)\n",
    "avg_of_genre_by_programmer.fillna(0)"
   ]
  },
  {
   "cell_type": "code",
   "execution_count": 48,
   "id": "0c44d9b9",
   "metadata": {},
   "outputs": [
    {
     "data": {
      "text/plain": [
       "Film-Noir      4.023256\n",
       "Mystery        3.714286\n",
       "Animation      3.628571\n",
       "War            3.627586\n",
       "Crime          3.613139\n",
       "Musical        3.526882\n",
       "Western        3.515152\n",
       "Drama          3.514443\n",
       "Sci-Fi         3.507692\n",
       "Romance        3.476636\n",
       "Comedy         3.458984\n",
       "Documentary    3.437500\n",
       "Thriller       3.436893\n",
       "Action         3.410072\n",
       "Adventure      3.387500\n",
       "Fantasy        3.363636\n",
       "Horror         3.318182\n",
       "Children's     3.281818\n",
       "unknown        0.000000\n",
       "dtype: float64"
      ]
     },
     "execution_count": 48,
     "metadata": {},
     "output_type": "execute_result"
    }
   ],
   "source": [
    "#occupation : retired\n",
    "ratings_by_retired = rating_of_genre_data_by_retired['rating']\n",
    "count_of_ratings_by_retired = rating_of_genre_data_by_retired.drop(['rating','occupation'], axis=1).sum()\n",
    "\n",
    "sum_of_ratings_by_retired = rating_of_genre_data_by_retired.drop(['rating','occupation'], axis=1).mul(ratings_by_retired, axis=0).sum()\n",
    "\n",
    "avg_of_genre_by_retired = sum_of_ratings_by_retired / count_of_ratings_by_retired\n",
    "avg_of_genre_by_retired.sort_values(axis=0, inplace=True, ascending=False)\n",
    "avg_of_genre_by_retired.fillna(0)"
   ]
  },
  {
   "cell_type": "code",
   "execution_count": 49,
   "id": "0d6c31e1",
   "metadata": {},
   "outputs": [
    {
     "data": {
      "text/plain": [
       "Documentary    4.000000\n",
       "Drama          3.984227\n",
       "War            3.948052\n",
       "Western        3.937500\n",
       "Crime          3.860759\n",
       "Film-Noir      3.785714\n",
       "Mystery        3.775000\n",
       "Adventure      3.717172\n",
       "Animation      3.666667\n",
       "Action         3.653153\n",
       "Romance        3.632530\n",
       "Musical        3.592593\n",
       "Thriller       3.585000\n",
       "Sci-Fi         3.540816\n",
       "Children's     3.500000\n",
       "Fantasy        3.333333\n",
       "Horror         3.326531\n",
       "Comedy         3.187898\n",
       "unknown        0.000000\n",
       "dtype: float64"
      ]
     },
     "execution_count": 49,
     "metadata": {},
     "output_type": "execute_result"
    }
   ],
   "source": [
    "#occupation : salesman\n",
    "ratings_by_salesman = rating_of_genre_data_by_salesman['rating']\n",
    "count_of_ratings_by_salesman = rating_of_genre_data_by_salesman.drop(['rating','occupation'], axis=1).sum()\n",
    "\n",
    "sum_of_ratings_by_salesman = rating_of_genre_data_by_salesman.drop(['rating','occupation'], axis=1).mul(ratings_by_salesman, axis=0).sum()\n",
    "\n",
    "avg_of_genre_by_salesman = sum_of_ratings_by_salesman / count_of_ratings_by_salesman\n",
    "avg_of_genre_by_salesman.sort_values(axis=0, inplace=True, ascending=False)\n",
    "avg_of_genre_by_salesman.fillna(0)"
   ]
  },
  {
   "cell_type": "code",
   "execution_count": 50,
   "id": "2c88de17",
   "metadata": {},
   "outputs": [
    {
     "data": {
      "text/plain": [
       "Film-Noir      4.025641\n",
       "Documentary    3.882353\n",
       "War            3.815686\n",
       "Drama          3.815451\n",
       "Crime          3.813559\n",
       "Mystery        3.729508\n",
       "Animation      3.639344\n",
       "Western        3.625000\n",
       "Romance        3.615909\n",
       "Sci-Fi         3.578616\n",
       "Musical        3.549451\n",
       "Thriller       3.496802\n",
       "Children's     3.481481\n",
       "Comedy         3.446729\n",
       "Adventure      3.442105\n",
       "Action         3.422261\n",
       "Horror         3.385714\n",
       "Fantasy        3.150000\n",
       "unknown        0.000000\n",
       "dtype: float64"
      ]
     },
     "execution_count": 50,
     "metadata": {},
     "output_type": "execute_result"
    }
   ],
   "source": [
    "#occupation : scientist\n",
    "ratings_by_scientist = rating_of_genre_data_by_scientist['rating']\n",
    "count_of_ratings_by_scientist = rating_of_genre_data_by_scientist.drop(['rating','occupation'], axis=1).sum()\n",
    "\n",
    "sum_of_ratings_by_scientist = rating_of_genre_data_by_scientist.drop(['rating','occupation'], axis=1).mul(ratings_by_scientist, axis=0).sum()\n",
    "\n",
    "avg_of_genre_by_scientist = sum_of_ratings_by_scientist / count_of_ratings_by_scientist\n",
    "avg_of_genre_by_scientist.sort_values(axis=0, inplace=True, ascending=False)\n",
    "avg_of_genre_by_scientist.fillna(0)"
   ]
  },
  {
   "cell_type": "code",
   "execution_count": 51,
   "id": "455b2874",
   "metadata": {},
   "outputs": [
    {
     "data": {
      "text/plain": [
       "Film-Noir      3.832714\n",
       "Documentary    3.829060\n",
       "War            3.819209\n",
       "Drama          3.702842\n",
       "Crime          3.657407\n",
       "Romance        3.650866\n",
       "Animation      3.563457\n",
       "Mystery        3.555005\n",
       "Western        3.549020\n",
       "Sci-Fi         3.531118\n",
       "Thriller       3.506238\n",
       "Musical        3.501855\n",
       "Adventure      3.484515\n",
       "Action         3.466552\n",
       "Horror         3.389552\n",
       "Comedy         3.375683\n",
       "Children's     3.356453\n",
       "Fantasy        3.048295\n",
       "unknown        3.000000\n",
       "dtype: float64"
      ]
     },
     "execution_count": 51,
     "metadata": {},
     "output_type": "execute_result"
    }
   ],
   "source": [
    "#occupation : student\n",
    "ratings_by_student = rating_of_genre_data_by_student['rating']\n",
    "count_of_ratings_by_student = rating_of_genre_data_by_student.drop(['rating','occupation'], axis=1).sum()\n",
    "\n",
    "sum_of_ratings_by_student = rating_of_genre_data_by_student.drop(['rating','occupation'], axis=1).mul(ratings_by_student, axis=0).sum()\n",
    "\n",
    "avg_of_genre_by_student = sum_of_ratings_by_student / count_of_ratings_by_student\n",
    "avg_of_genre_by_student.sort_values(axis=0, inplace=True, ascending=False)\n",
    "avg_of_genre_by_student.fillna(0)"
   ]
  },
  {
   "cell_type": "code",
   "execution_count": 52,
   "id": "914266d2",
   "metadata": {},
   "outputs": [
    {
     "data": {
      "text/plain": [
       "Film-Noir      4.021739\n",
       "unknown        4.000000\n",
       "Documentary    3.958333\n",
       "War            3.715405\n",
       "Drama          3.694981\n",
       "Mystery        3.689266\n",
       "Romance        3.631008\n",
       "Sci-Fi         3.630885\n",
       "Animation      3.606061\n",
       "Crime          3.509091\n",
       "Thriller       3.488693\n",
       "Western        3.483146\n",
       "Action         3.459685\n",
       "Adventure      3.458781\n",
       "Musical        3.457143\n",
       "Horror         3.420732\n",
       "Comedy         3.381629\n",
       "Children's     3.271493\n",
       "Fantasy        3.157895\n",
       "dtype: float64"
      ]
     },
     "execution_count": 52,
     "metadata": {},
     "output_type": "execute_result"
    }
   ],
   "source": [
    "#occupation : technician\n",
    "ratings_by_technician = rating_of_genre_data_by_technician['rating']\n",
    "count_of_ratings_by_technician = rating_of_genre_data_by_technician.drop(['rating','occupation'], axis=1).sum()\n",
    "\n",
    "sum_of_ratings_by_technician = rating_of_genre_data_by_technician.drop(['rating','occupation'], axis=1).mul(ratings_by_technician, axis=0).sum()\n",
    "\n",
    "avg_of_genre_by_technician = sum_of_ratings_by_technician / count_of_ratings_by_technician\n",
    "avg_of_genre_by_technician.sort_values(axis=0, inplace=True, ascending=False)\n",
    "avg_of_genre_by_technician.fillna(0)"
   ]
  },
  {
   "cell_type": "code",
   "execution_count": 53,
   "id": "572ec4f7",
   "metadata": {},
   "outputs": [
    {
     "data": {
      "text/plain": [
       "Film-Noir      3.968000\n",
       "Documentary    3.782609\n",
       "Mystery        3.629851\n",
       "War            3.577528\n",
       "Drama          3.511322\n",
       "Crime          3.502008\n",
       "Animation      3.500000\n",
       "Musical        3.474265\n",
       "Romance        3.469712\n",
       "Western        3.414894\n",
       "Thriller       3.375767\n",
       "Sci-Fi         3.347243\n",
       "Children's     3.324251\n",
       "Adventure      3.302671\n",
       "Action         3.285604\n",
       "Comedy         3.268742\n",
       "Fantasy        3.197183\n",
       "Horror         3.107930\n",
       "unknown        1.000000\n",
       "dtype: float64"
      ]
     },
     "execution_count": 53,
     "metadata": {},
     "output_type": "execute_result"
    }
   ],
   "source": [
    "#occupation : writer\n",
    "ratings_by_writer = rating_of_genre_data_by_writer['rating']\n",
    "count_of_ratings_by_writer = rating_of_genre_data_by_writer.drop(['rating','occupation'], axis=1).sum()\n",
    "\n",
    "sum_of_ratings_by_writer = rating_of_genre_data_by_writer.drop(['rating','occupation'], axis=1).mul(ratings_by_writer, axis=0).sum()\n",
    "\n",
    "avg_of_genre_by_writer = sum_of_ratings_by_writer / count_of_ratings_by_writer\n",
    "avg_of_genre_by_writer.sort_values(axis=0, inplace=True, ascending=False)\n",
    "avg_of_genre_by_writer.fillna(0)"
   ]
  },
  {
   "cell_type": "code",
   "execution_count": null,
   "id": "19797c2c",
   "metadata": {},
   "outputs": [],
   "source": []
  },
  {
   "cell_type": "code",
   "execution_count": null,
   "id": "1d818819",
   "metadata": {},
   "outputs": [],
   "source": []
  }
 ],
 "metadata": {
  "kernelspec": {
   "display_name": "Python 3 (ipykernel)",
   "language": "python",
   "name": "python3"
  },
  "language_info": {
   "codemirror_mode": {
    "name": "ipython",
    "version": 3
   },
   "file_extension": ".py",
   "mimetype": "text/x-python",
   "name": "python",
   "nbconvert_exporter": "python",
   "pygments_lexer": "ipython3",
   "version": "3.9.9"
  }
 },
 "nbformat": 4,
 "nbformat_minor": 5
}
